{
 "cells": [
  {
   "cell_type": "code",
   "execution_count": 1,
   "id": "78175824",
   "metadata": {},
   "outputs": [
    {
     "name": "stdout",
     "output_type": "stream",
     "text": [
      "Twinkle, twinkle, little star,\n",
      "\t How I wonder what you are!\n",
      "\t\t Up above the world so high,\n",
      "\t\t Like a diamond in the sky.\n",
      "Twinkle, twinkle, little star,\n",
      "\t How I wonder what you are!\n"
     ]
    }
   ],
   "source": [
    "#1. Write a Python program to print the following string in a specific format (see the\n",
    "#output).\n",
    "\n",
    "#Twinkle, twinkle, little star,\n",
    "         #How I wonder what you are!\n",
    "                 #Up above the world so high,\n",
    "                 #Like a diamond in the sky.\n",
    "#Twinkle, twinkle, little star,\n",
    "         #How I wonder what you are #\n",
    "\n",
    "print(\"Twinkle, twinkle, little star,\\n\\t How I wonder what you are!\\n\\t\\t Up above the world so high,\\n\\t\\t Like a diamond in the sky.\\nTwinkle, twinkle, little star,\\n\\t How I wonder what you are!\")"
   ]
  },
  {
   "cell_type": "code",
   "execution_count": 2,
   "id": "eb6f9de1",
   "metadata": {},
   "outputs": [
    {
     "name": "stdout",
     "output_type": "stream",
     "text": [
      "Python Version\n",
      "3.8.8 (default, Apr 13 2021, 15:08:07) [MSC v.1916 32 bit (Intel)]\n",
      "Version info\n",
      "sys.version_info(major=3, minor=8, micro=8, releaselevel='final', serial=0)\n"
     ]
    }
   ],
   "source": [
    "#2. Write a Python program to get the Python version you are using#\n",
    "\n",
    "import sys\n",
    "print(\"Python Version\")\n",
    "print(sys.version)\n",
    "print(\"Version info\")\n",
    "print(sys.version_info)\n"
   ]
  },
  {
   "cell_type": "code",
   "execution_count": 3,
   "id": "45988f62",
   "metadata": {},
   "outputs": [
    {
     "name": "stdout",
     "output_type": "stream",
     "text": [
      "Current Date and Time:\n",
      "2021-10-23  13: 57: 41\n"
     ]
    }
   ],
   "source": [
    "#3. Write a Python program to display the current date and time.#\n",
    "\n",
    "import datetime\n",
    "now = datetime.datetime.now()\n",
    "print(\"Current Date and Time:\")\n",
    "print(now.strftime(\"%Y-%m-%d  %H: %M: %S\"))\n"
   ]
  },
  {
   "cell_type": "code",
   "execution_count": 4,
   "id": "36714c90",
   "metadata": {},
   "outputs": [
    {
     "name": "stdout",
     "output_type": "stream",
     "text": [
      "input the radius of the circle:1.1\n",
      "The area of the circle with radius1.1is:3.8013271108436504\n"
     ]
    }
   ],
   "source": [
    "#4. Write a Python program which accepts the radius of a circle from the user and compute\n",
    "#the area#\n",
    "\n",
    "from math import pi\n",
    "r = float(input(\"input the radius of the circle:\"))\n",
    "print(\"The area of the circle with radius\" + str(r) + \"is:\" + str(pi * r**2))\n"
   ]
  },
  {
   "cell_type": "code",
   "execution_count": 5,
   "id": "100a52b8",
   "metadata": {},
   "outputs": [
    {
     "name": "stdout",
     "output_type": "stream",
     "text": [
      "input Your First Name:Naz\n",
      "input Your Last Name:Aslam\n",
      "Hello  Aslam Naz\n"
     ]
    }
   ],
   "source": [
    "#5. Write a Python program which accepts the user's first and last name and print them in\n",
    "#reverse order with a space between them.#\n",
    "\n",
    "firstname = input(\"input Your First Name:\")\n",
    "lastname = input(\"input Your Last Name:\")\n",
    "print(\"Hello  \" +lastname + \" \" +firstname)\n"
   ]
  },
  {
   "cell_type": "code",
   "execution_count": 6,
   "id": "ee03a7b5",
   "metadata": {},
   "outputs": [
    {
     "name": "stdout",
     "output_type": "stream",
     "text": [
      "Enter First Number:5\n",
      "Enter Second Number:7\n",
      "Sum: 12\n"
     ]
    }
   ],
   "source": [
    "#6. Write a python program which takes two inputs from user and print them addition#\n",
    "\n",
    "a = (input(\"Enter First Number:\"))\n",
    "b = (input(\"Enter Second Number:\"))\n",
    "\n",
    "sum = int(a) + int(b)\n",
    "\n",
    "print(\"Sum:\", sum)\n"
   ]
  },
  {
   "cell_type": "code",
   "execution_count": 7,
   "id": "818e834a",
   "metadata": {},
   "outputs": [
    {
     "name": "stdout",
     "output_type": "stream",
     "text": [
      "Enter the marks of five subjects:\n",
      "Enter Marks of sub1:85\n",
      "Enter Marks of sub2:78\n",
      "Enter Marks of sub3:80\n",
      "Enter Marks of sub4:92\n",
      "Enter Marks of sub5:77\n",
      "\n",
      "The Total marks is:   \t 412 / 500.00\n",
      "\n",
      "The Percentage is:    \t 82.39999999999999 %\n",
      "\n",
      "The Grade is:         \t A\n"
     ]
    }
   ],
   "source": [
    "#7. Write a program which takes 5 inputs from user for different subject’s marks, total it\n",
    "#and generate mark sheet using grades ?#\n",
    "\n",
    "\n",
    "print(\"Enter the marks of five subjects:\")\n",
    "\n",
    "subject_1 = int(input (\"Enter Marks of sub1:\"))\n",
    "subject_2 = int(input (\"Enter Marks of sub2:\"))\n",
    "subject_3 = int(input (\"Enter Marks of sub3:\"))\n",
    "subject_4 = int(input (\"Enter Marks of sub4:\"))\n",
    "subject_5 = int(input (\"Enter Marks of sub5:\"))\n",
    "\n",
    "total, percentage, grade = None, None,None\n",
    "\n",
    "total = subject_1 + subject_2 + subject_3 + subject_4 + subject_5\n",
    "percentage = (total / 500.0) * 100\n",
    "\n",
    "if percentage >= 90:\n",
    "    grade = 'A+'\n",
    "elif percentage >= 80 and percentage < 90:\n",
    "    grade = 'A'\n",
    "elif percentage >= 70 and percentage < 80:\n",
    "    grade = 'B'\n",
    "elif percentage >= 60 and percentage < 70:\n",
    "    grade = 'C'\n",
    "\n",
    "else:\n",
    "    grade = 'fail'\n",
    "    \n",
    "print (\"\\nThe Total marks is:   \\t\", total, \"/ 500.00\")\n",
    "print (\"\\nThe Percentage is:    \\t\", percentage, \"%\")\n",
    "print (\"\\nThe Grade is:         \\t\", grade)"
   ]
  },
  {
   "cell_type": "code",
   "execution_count": 9,
   "id": "d97d1129",
   "metadata": {},
   "outputs": [
    {
     "name": "stdout",
     "output_type": "stream",
     "text": [
      "Enter a number: 5\n",
      "odd number\n"
     ]
    }
   ],
   "source": [
    "#8. Write a program which take input from user and identify that the given number is even\n",
    "#or odd?#\n",
    "\n",
    "a=int(input(\"Enter a number: \"))\n",
    "if (a&1==1):\n",
    "  print(\"odd number\")\n",
    "else:\n",
    "    print(\"even number\")"
   ]
  },
  {
   "cell_type": "code",
   "execution_count": 10,
   "id": "7b11f872",
   "metadata": {},
   "outputs": [
    {
     "name": "stdout",
     "output_type": "stream",
     "text": [
      "The length of the list is: 6\n"
     ]
    }
   ],
   "source": [
    "#9. Write a program which print the length of the list?#\n",
    "\n",
    "ListName=[\"hello\",\"black\",1,2,3,\"orange\"]\n",
    "print(\"The length of the list is:\",len(ListName))"
   ]
  },
  {
   "cell_type": "code",
   "execution_count": 22,
   "id": "c5f7323b",
   "metadata": {},
   "outputs": [
    {
     "name": "stdout",
     "output_type": "stream",
     "text": [
      "Sum of List:  61\n"
     ]
    }
   ],
   "source": [
    "#10.Write a Python program to sum all the numeric items in a list?\n",
    "\n",
    "numlist = [2,4,2,5,7,9,23,4,5]\n",
    "\n",
    "numsum=0\n",
    "for i in numlist:\n",
    "    numsum+=i\n",
    "print('Sum of List: ',numsum)"
   ]
  },
  {
   "cell_type": "code",
   "execution_count": 23,
   "id": "6416f8f0",
   "metadata": {},
   "outputs": [
    {
     "name": "stdout",
     "output_type": "stream",
     "text": [
      "2\n"
     ]
    }
   ],
   "source": [
    "#11.Write a Python program to get the largest number from a numeric list.\n",
    "\n",
    "def max_num_in_list( list ):\n",
    "    max = list[ 0 ]\n",
    "    for a in list:\n",
    "        if a > max:\n",
    "            max = a\n",
    "    return max\n",
    "print(max_num_in_list([1, 2, -8, 0]))"
   ]
  },
  {
   "cell_type": "code",
   "execution_count": 24,
   "id": "7eb6ceb8",
   "metadata": {},
   "outputs": [
    {
     "name": "stdout",
     "output_type": "stream",
     "text": [
      "1\n",
      "1\n",
      "2\n",
      "3\n"
     ]
    }
   ],
   "source": [
    "#12. Take a list, say for example this one:\n",
    "#a = [1, 1, 2, 3, 5, 8, 13, 21, 34, 55, 89]\n",
    "#Write a program that prints out all the elements of the list that are less than 5.\n",
    "\n",
    "a = [1, 1, 2, 3, 5, 8, 13, 21, 34, 55, 89]\n",
    "for i in a:\n",
    "    if i < 5:\n",
    "        print(i)"
   ]
  },
  {
   "cell_type": "code",
   "execution_count": null,
   "id": "36ef2f9d",
   "metadata": {},
   "outputs": [],
   "source": []
  }
 ],
 "metadata": {
  "kernelspec": {
   "display_name": "Python 3",
   "language": "python",
   "name": "python3"
  },
  "language_info": {
   "codemirror_mode": {
    "name": "ipython",
    "version": 3
   },
   "file_extension": ".py",
   "mimetype": "text/x-python",
   "name": "python",
   "nbconvert_exporter": "python",
   "pygments_lexer": "ipython3",
   "version": "3.8.8"
  }
 },
 "nbformat": 4,
 "nbformat_minor": 5
}
